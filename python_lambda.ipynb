{
  "nbformat": 4,
  "nbformat_minor": 0,
  "metadata": {
    "colab": {
      "name": "python_lambda.ipynb",
      "provenance": [],
      "authorship_tag": "ABX9TyOgNIcvyXOwycHH/u8EH13C"
    },
    "kernelspec": {
      "name": "python3",
      "display_name": "Python 3"
    },
    "language_info": {
      "name": "python"
    }
  },
  "cells": [
    {
      "cell_type": "code",
      "metadata": {
        "colab": {
          "base_uri": "https://localhost:8080/"
        },
        "id": "Bg7uTWHBcxMj",
        "outputId": "0d6bd9a2-f481-4664-fc56-b81804be9698"
      },
      "source": [
        "(lambda first, second : first * second + 20)(10, 3)"
      ],
      "execution_count": 7,
      "outputs": [
        {
          "output_type": "execute_result",
          "data": {
            "text/plain": [
              "50"
            ]
          },
          "metadata": {
            "tags": []
          },
          "execution_count": 7
        }
      ]
    },
    {
      "cell_type": "code",
      "metadata": {
        "id": "pS7VT5tUfzvl"
      },
      "source": [
        "def plus(first01, second02):\n",
        "  # result = first01 + 20\n",
        "  # return result"
      ],
      "execution_count": 12,
      "outputs": []
    },
    {
      "cell_type": "code",
      "metadata": {
        "colab": {
          "base_uri": "https://localhost:8080/"
        },
        "id": "rsd04bqagaWq",
        "outputId": "6edde2ae-a28a-4f3e-f3f2-55fa2f70dee1"
      },
      "source": [
        "plus(10), type(plus)"
      ],
      "execution_count": 13,
      "outputs": [
        {
          "output_type": "execute_result",
          "data": {
            "text/plain": [
              "(None, function)"
            ]
          },
          "metadata": {
            "tags": []
          },
          "execution_count": 13
        }
      ]
    },
    {
      "cell_type": "code",
      "metadata": {
        "colab": {
          "base_uri": "https://localhost:8080/"
        },
        "id": "qo1vOB1QhpKN",
        "outputId": "0a1c763d-0268-41db-dbfc-49224aa75fea"
      },
      "source": [
        "plus(20)"
      ],
      "execution_count": 4,
      "outputs": [
        {
          "output_type": "execute_result",
          "data": {
            "text/plain": [
              "40"
            ]
          },
          "metadata": {
            "tags": []
          },
          "execution_count": 4
        }
      ]
    },
    {
      "cell_type": "code",
      "metadata": {
        "colab": {
          "base_uri": "https://localhost:8080/"
        },
        "id": "Z-Kn7MH5hqoZ",
        "outputId": "d4199d12-6577-4f61-829c-b42f2847a693"
      },
      "source": [
        "plus_02 = (lambda first : first + 20)\n",
        "type(plus_02)"
      ],
      "execution_count": 5,
      "outputs": [
        {
          "output_type": "execute_result",
          "data": {
            "text/plain": [
              "function"
            ]
          },
          "metadata": {
            "tags": []
          },
          "execution_count": 5
        }
      ]
    },
    {
      "cell_type": "code",
      "metadata": {
        "colab": {
          "base_uri": "https://localhost:8080/"
        },
        "id": "LstTZEGDhwIP",
        "outputId": "96fd2075-badd-461c-be1d-29d64a3de67f"
      },
      "source": [
        "plus_02(30)"
      ],
      "execution_count": 11,
      "outputs": [
        {
          "output_type": "execute_result",
          "data": {
            "text/plain": [
              "50"
            ]
          },
          "metadata": {
            "tags": []
          },
          "execution_count": 11
        }
      ]
    },
    {
      "cell_type": "code",
      "metadata": {
        "id": "eAJgE0AJjvul"
      },
      "source": [
        ""
      ],
      "execution_count": null,
      "outputs": []
    }
  ]
}