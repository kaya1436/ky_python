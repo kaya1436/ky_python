{
  "nbformat": 4,
  "nbformat_minor": 0,
  "metadata": {
    "colab": {
      "name": "python_map.ipynb",
      "provenance": [],
      "authorship_tag": "ABX9TyP9LKEU9q/MMmNAeUJxJYaI"
    },
    "kernelspec": {
      "name": "python3",
      "display_name": "Python 3"
    },
    "language_info": {
      "name": "python"
    }
  },
  "cells": [
    {
      "cell_type": "code",
      "metadata": {
        "id": "ejiUsLD1kasW"
      },
      "source": [
        "def calSquare(num):\n",
        "  result = num * num\n",
        "  return result"
      ],
      "execution_count": 1,
      "outputs": []
    },
    {
      "cell_type": "code",
      "metadata": {
        "id": "KpmX9kaNlIFf"
      },
      "source": [
        "numbers = (1,2)"
      ],
      "execution_count": 3,
      "outputs": []
    },
    {
      "cell_type": "code",
      "metadata": {
        "colab": {
          "base_uri": "https://localhost:8080/"
        },
        "id": "GOn99K5blmQK",
        "outputId": "22525ff4-c1ad-4cac-d12d-010ab22b5717"
      },
      "source": [
        "result = map(calSquare, numbers)\n",
        "print(set(result))"
      ],
      "execution_count": 6,
      "outputs": [
        {
          "output_type": "stream",
          "text": [
            "{1, 4}\n"
          ],
          "name": "stdout"
        }
      ]
    },
    {
      "cell_type": "code",
      "metadata": {
        "colab": {
          "base_uri": "https://localhost:8080/"
        },
        "id": "bXgkje-Yl1ep",
        "outputId": "9582c9c9-ad75-4dde-a78f-3e29160c292d"
      },
      "source": [
        "calSquare(1), calSquare(2)"
      ],
      "execution_count": 9,
      "outputs": [
        {
          "output_type": "execute_result",
          "data": {
            "text/plain": [
              "(1, 4)"
            ]
          },
          "metadata": {
            "tags": []
          },
          "execution_count": 9
        }
      ]
    },
    {
      "cell_type": "code",
      "metadata": {
        "colab": {
          "base_uri": "https://localhost:8080/"
        },
        "id": "UnPMhiOomeh6",
        "outputId": "8ae68259-6f5e-4f0e-8059-622a513bcd1c"
      },
      "source": [
        "calplus = (lambda first, second : first + second)\n",
        "type(calplus)"
      ],
      "execution_count": 10,
      "outputs": [
        {
          "output_type": "execute_result",
          "data": {
            "text/plain": [
              "function"
            ]
          },
          "metadata": {
            "tags": []
          },
          "execution_count": 10
        }
      ]
    },
    {
      "cell_type": "code",
      "metadata": {
        "colab": {
          "base_uri": "https://localhost:8080/"
        },
        "id": "L261IeCNmgAc",
        "outputId": "6cf136d8-7cd4-44e2-9f16-b75b2bdc0e6d"
      },
      "source": [
        "number01 = [1,2,3]\n",
        "number02 = [4,5,6]\n",
        "type(number01), type(number02)"
      ],
      "execution_count": 11,
      "outputs": [
        {
          "output_type": "execute_result",
          "data": {
            "text/plain": [
              "(list, list)"
            ]
          },
          "metadata": {
            "tags": []
          },
          "execution_count": 11
        }
      ]
    },
    {
      "cell_type": "code",
      "metadata": {
        "colab": {
          "base_uri": "https://localhost:8080/"
        },
        "id": "yqEsHFIpq4T6",
        "outputId": "f0817960-d3ad-4498-bc15-b4f3be418580"
      },
      "source": [
        "calplus(number01[0],number02[0])"
      ],
      "execution_count": 12,
      "outputs": [
        {
          "output_type": "execute_result",
          "data": {
            "text/plain": [
              "5"
            ]
          },
          "metadata": {
            "tags": []
          },
          "execution_count": 12
        }
      ]
    },
    {
      "cell_type": "code",
      "metadata": {
        "colab": {
          "base_uri": "https://localhost:8080/"
        },
        "id": "s8-FvZImrp3q",
        "outputId": "02685cd3-4180-4661-ab51-b2184e9128ed"
      },
      "source": [
        "result = map(calplus,number01,number02)\n",
        "list(result)"
      ],
      "execution_count": 13,
      "outputs": [
        {
          "output_type": "execute_result",
          "data": {
            "text/plain": [
              "[5, 7, 9]"
            ]
          },
          "metadata": {
            "tags": []
          },
          "execution_count": 13
        }
      ]
    },
    {
      "cell_type": "code",
      "metadata": {
        "id": "FBYtnUVEsAhL"
      },
      "source": [
        ""
      ],
      "execution_count": null,
      "outputs": []
    }
  ]
}