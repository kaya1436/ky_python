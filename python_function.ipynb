{
  "nbformat": 4,
  "nbformat_minor": 0,
  "metadata": {
    "colab": {
      "name": "python_function.ipynb",
      "provenance": [],
      "collapsed_sections": [],
      "authorship_tag": "ABX9TyMrzu0pWhRDwOjL2/iWD9Ay"
    },
    "kernelspec": {
      "name": "python3",
      "display_name": "Python 3"
    },
    "language_info": {
      "name": "python"
    }
  },
  "cells": [
    {
      "cell_type": "code",
      "metadata": {
        "id": "JhBeN1dQUI7w"
      },
      "source": [
        "import numpy as np"
      ],
      "execution_count": null,
      "outputs": []
    },
    {
      "cell_type": "code",
      "metadata": {
        "id": "DRznAuHV2YNq"
      },
      "source": [
        "def onehotcylinder(cylinders):\n",
        "  if cylinders == 3:\n",
        "    cylinder = np.array([1,0,0,0,0])\n",
        "  elif cylinders == 4:\n",
        "    cylinder = np.array([0,1,0,0,0])\n",
        "  elif cylinders == 5:\n",
        "    cylinder = np.array([0,0,1,0,0])\n",
        "  elif cylinders == 6:\n",
        "    cylinder = np.array([0,0,0,1,0])\n",
        "  else : # 8\n",
        "    cylinder = np.array([0,0,0,0,1])  \n",
        "  return cylinder"
      ],
      "execution_count": null,
      "outputs": []
    },
    {
      "cell_type": "code",
      "metadata": {
        "id": "njc_PNfWVpen"
      },
      "source": [
        "displacement = 307.0\n",
        "horsepower = 130.0\n",
        "weight = 3504.0\n",
        "accel = 12.0\n",
        "cylinders = 8\n",
        "origin = 1\n",
        "\n",
        "## if cylinders = 8, origin = 1 --> onehot encoding\n",
        "import numpy as np\n",
        "\n",
        "x_continus = np.array([displacement, horsepower, weight, accel])\n",
        "# cylinder = np.array([0,0,0,0,1]) # 8\n",
        "cylinder = onehotcylinder(cylinders)\n",
        "org = np.array([1,0,0]) # 1"
      ],
      "execution_count": null,
      "outputs": []
    },
    {
      "cell_type": "code",
      "metadata": {
        "colab": {
          "base_uri": "https://localhost:8080/"
        },
        "id": "KcqNhAtcXSSI",
        "outputId": "ea705653-d3ad-48e4-c6e7-db95bd6d2970"
      },
      "source": [
        "# np.concatenate((a, b), axis=None)\n",
        "result = np.concatenate((x_continus, cylinder, org), axis=None)\n",
        "result.shape, result"
      ],
      "execution_count": null,
      "outputs": [
        {
          "output_type": "execute_result",
          "data": {
            "text/plain": [
              "((12,),\n",
              " array([3.070e+02, 1.300e+02, 3.504e+03, 1.200e+01, 0.000e+00, 0.000e+00,\n",
              "        0.000e+00, 0.000e+00, 1.000e+00, 1.000e+00, 0.000e+00, 0.000e+00]))"
            ]
          },
          "metadata": {
            "tags": []
          },
          "execution_count": 25
        }
      ]
    },
    {
      "cell_type": "code",
      "metadata": {
        "colab": {
          "base_uri": "https://localhost:8080/"
        },
        "id": "vWWVy-57ZHa-",
        "outputId": "60169536-0998-4ee7-c874-3411759dcf9e"
      },
      "source": [
        "# [307.0,130.0,3504.0,12.0, 0,0,0,0,1]\n",
        "# result.reshape(1, 12) \n",
        "result = result.reshape(-1, result.size)\n",
        "result, result.shape, result.size,"
      ],
      "execution_count": null,
      "outputs": [
        {
          "output_type": "execute_result",
          "data": {
            "text/plain": [
              "(array([[3.070e+02, 1.300e+02, 3.504e+03, 1.200e+01, 0.000e+00, 0.000e+00,\n",
              "         0.000e+00, 0.000e+00, 1.000e+00, 1.000e+00, 0.000e+00, 0.000e+00]]),\n",
              " (1, 12),\n",
              " 12)"
            ]
          },
          "metadata": {
            "tags": []
          },
          "execution_count": 26
        }
      ]
    },
    {
      "cell_type": "markdown",
      "metadata": {
        "id": "580Hw7Akinrz"
      },
      "source": [
        "# function 이해"
      ]
    },
    {
      "cell_type": "code",
      "metadata": {
        "colab": {
          "base_uri": "https://localhost:8080/"
        },
        "id": "HY0uDyfbhmz0",
        "outputId": "495b99b7-c1fe-49a1-e77f-9a8733dd8efc"
      },
      "source": [
        "21 + 14"
      ],
      "execution_count": null,
      "outputs": [
        {
          "output_type": "execute_result",
          "data": {
            "text/plain": [
              "35"
            ]
          },
          "metadata": {
            "tags": []
          },
          "execution_count": 27
        }
      ]
    },
    {
      "cell_type": "code",
      "metadata": {
        "colab": {
          "base_uri": "https://localhost:8080/"
        },
        "id": "rHw8ldeMi15i",
        "outputId": "3fa6b36a-e4ba-46ee-f30a-749159519c9b"
      },
      "source": [
        "32 + 45"
      ],
      "execution_count": null,
      "outputs": [
        {
          "output_type": "execute_result",
          "data": {
            "text/plain": [
              "77"
            ]
          },
          "metadata": {
            "tags": []
          },
          "execution_count": 28
        }
      ]
    },
    {
      "cell_type": "code",
      "metadata": {
        "id": "MFe1T0Igi4RS"
      },
      "source": [
        "def sum():\n",
        "  first = 32 \n",
        "  second = 45\n",
        "  result = first + second\n",
        "  return result"
      ],
      "execution_count": null,
      "outputs": []
    },
    {
      "cell_type": "code",
      "metadata": {
        "colab": {
          "base_uri": "https://localhost:8080/"
        },
        "id": "3pITM5QojH4K",
        "outputId": "d08b9996-18cd-456f-b3f3-84dbabb81b75"
      },
      "source": [
        "sum()"
      ],
      "execution_count": null,
      "outputs": [
        {
          "output_type": "execute_result",
          "data": {
            "text/plain": [
              "77"
            ]
          },
          "metadata": {
            "tags": []
          },
          "execution_count": 30
        }
      ]
    },
    {
      "cell_type": "code",
      "metadata": {
        "id": "kskB7IVLm8o3"
      },
      "source": [
        "# f01 = 32\n",
        "# s02 = 21\n",
        "def sum(f01, s02):\n",
        "  first = s02 \n",
        "  second = f01\n",
        "  result = first + second\n",
        "  return result, second, first"
      ],
      "execution_count": null,
      "outputs": []
    },
    {
      "cell_type": "code",
      "metadata": {
        "colab": {
          "base_uri": "https://localhost:8080/",
          "height": 185
        },
        "id": "uUT22JHwo-up",
        "outputId": "9b5049fa-61bc-4d55-fa23-4e7778a3d7fc"
      },
      "source": [
        "_, r02, r03 = sum(21,564)\n",
        "print(r01, r02)"
      ],
      "execution_count": null,
      "outputs": [
        {
          "output_type": "error",
          "ename": "NameError",
          "evalue": "ignored",
          "traceback": [
            "\u001b[0;31m---------------------------------------------------------------------------\u001b[0m",
            "\u001b[0;31mNameError\u001b[0m                                 Traceback (most recent call last)",
            "\u001b[0;32m<ipython-input-33-5ae7525f17c2>\u001b[0m in \u001b[0;36m<module>\u001b[0;34m()\u001b[0m\n\u001b[1;32m      1\u001b[0m \u001b[0m_\u001b[0m\u001b[0;34m,\u001b[0m \u001b[0mr02\u001b[0m\u001b[0;34m,\u001b[0m \u001b[0mr03\u001b[0m \u001b[0;34m=\u001b[0m \u001b[0msum\u001b[0m\u001b[0;34m(\u001b[0m\u001b[0;36m21\u001b[0m\u001b[0;34m,\u001b[0m\u001b[0;36m564\u001b[0m\u001b[0;34m)\u001b[0m\u001b[0;34m\u001b[0m\u001b[0;34m\u001b[0m\u001b[0m\n\u001b[0;32m----> 2\u001b[0;31m \u001b[0mprint\u001b[0m\u001b[0;34m(\u001b[0m\u001b[0mr01\u001b[0m\u001b[0;34m,\u001b[0m \u001b[0mr02\u001b[0m\u001b[0;34m)\u001b[0m\u001b[0;34m\u001b[0m\u001b[0;34m\u001b[0m\u001b[0m\n\u001b[0m",
            "\u001b[0;31mNameError\u001b[0m: name 'r01' is not defined"
          ]
        }
      ]
    },
    {
      "cell_type": "code",
      "metadata": {
        "id": "khYhzXzptPe-"
      },
      "source": [
        "# def differenceVars(*var01, **args02)\n",
        "def diffparam(*var_list, **var_dict):\n",
        "  print(var_dict)\n",
        "  result01 = len(var_list)\n",
        "  return result01"
      ],
      "execution_count": null,
      "outputs": []
    },
    {
      "cell_type": "code",
      "metadata": {
        "colab": {
          "base_uri": "https://localhost:8080/"
        },
        "id": "MImbAQNMzHbx",
        "outputId": "b1c8e9e1-3ce6-4c7d-cfdf-e83c7d8921c2"
      },
      "source": [
        "diffparam(1,2,3, a=2, b=3)"
      ],
      "execution_count": null,
      "outputs": [
        {
          "output_type": "stream",
          "text": [
            "{'a': 2, 'b': 3}\n"
          ],
          "name": "stdout"
        },
        {
          "output_type": "execute_result",
          "data": {
            "text/plain": [
              "3"
            ]
          },
          "metadata": {
            "tags": []
          },
          "execution_count": 35
        }
      ]
    },
    {
      "cell_type": "code",
      "metadata": {
        "colab": {
          "base_uri": "https://localhost:8080/"
        },
        "id": "udr9kysFzVRT",
        "outputId": "5681897b-3ed9-4848-b158-44ed9600d51f"
      },
      "source": [
        "diffparam(1,2,3,5,6, c=5, d=6, a=2, b=3)"
      ],
      "execution_count": null,
      "outputs": [
        {
          "output_type": "stream",
          "text": [
            "{'c': 5, 'd': 6, 'a': 2, 'b': 3}\n"
          ],
          "name": "stdout"
        },
        {
          "output_type": "execute_result",
          "data": {
            "text/plain": [
              "5"
            ]
          },
          "metadata": {
            "tags": []
          },
          "execution_count": 36
        }
      ]
    },
    {
      "cell_type": "code",
      "metadata": {
        "id": "1qIuDk_pz5Yz"
      },
      "source": [
        ""
      ],
      "execution_count": null,
      "outputs": []
    }
  ]
}